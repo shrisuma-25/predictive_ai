{
 "cells": [
  {
   "cell_type": "markdown",
   "id": "9efeb783",
   "metadata": {},
   "source": [
    "## Creating Classification using Logistic Regression"
   ]
  },
  {
   "cell_type": "markdown",
   "id": "9af38ef5",
   "metadata": {},
   "source": [
    "#### Load Data"
   ]
  },
  {
   "cell_type": "code",
   "execution_count": 22,
   "id": "121b960e",
   "metadata": {},
   "outputs": [],
   "source": [
    "from sklearn.datasets import load_iris\n",
    "import pandas as pd \n",
    "data = load_iris()"
   ]
  },
  {
   "cell_type": "markdown",
   "id": "6f56f044",
   "metadata": {},
   "source": [
    "#### Get X and y : Create Training and Test data"
   ]
  },
  {
   "cell_type": "code",
   "execution_count": 23,
   "id": "252a2fd5",
   "metadata": {},
   "outputs": [
    {
     "data": {
      "text/plain": [
       "(     sepal length (cm)  sepal width (cm)  petal length (cm)  petal width (cm)\n",
       " 0                  5.1               3.5                1.4               0.2\n",
       " 1                  4.9               3.0                1.4               0.2\n",
       " 2                  4.7               3.2                1.3               0.2\n",
       " 3                  4.6               3.1                1.5               0.2\n",
       " 4                  5.0               3.6                1.4               0.2\n",
       " ..                 ...               ...                ...               ...\n",
       " 145                6.7               3.0                5.2               2.3\n",
       " 146                6.3               2.5                5.0               1.9\n",
       " 147                6.5               3.0                5.2               2.0\n",
       " 148                6.2               3.4                5.4               2.3\n",
       " 149                5.9               3.0                5.1               1.8\n",
       " \n",
       " [150 rows x 4 columns],\n",
       " 0      0\n",
       " 1      0\n",
       " 2      0\n",
       " 3      0\n",
       " 4      0\n",
       "       ..\n",
       " 145    2\n",
       " 146    2\n",
       " 147    2\n",
       " 148    2\n",
       " 149    2\n",
       " Name: target, Length: 150, dtype: int64)"
      ]
     },
     "execution_count": 23,
     "metadata": {},
     "output_type": "execute_result"
    }
   ],
   "source": [
    "from sklearn.model_selection import train_test_split\n",
    "df = pd.DataFrame(data= data.data, columns= data.feature_names)\n",
    "df['target'] = data.target\n",
    "\n",
    "X = df.drop(columns = 'target')\n",
    "y = df['target']\n",
    "X, y"
   ]
  },
  {
   "cell_type": "code",
   "execution_count": 24,
   "id": "0a513b65",
   "metadata": {},
   "outputs": [],
   "source": [
    "# Create Train And Test DAta\n",
    "X_train, X_test,y_train,y_test = train_test_split(X, y, test_size = 0.2)"
   ]
  },
  {
   "cell_type": "markdown",
   "id": "9d6e936a",
   "metadata": {},
   "source": [
    "#### Create Logistic Regression Model, Fit it and Predict\n"
   ]
  },
  {
   "cell_type": "code",
   "execution_count": 25,
   "id": "0d8f54df",
   "metadata": {},
   "outputs": [],
   "source": [
    "from sklearn.linear_model import LogisticRegression\n",
    "model = LogisticRegression(max_iter=1000)\n",
    "\n",
    "model.fit(X_train, y_train)\n",
    "y_predicted = model.predict(X_test)\n",
    "model.fit(X_train, y_train)\n",
    "y_predicted = model.predict(X_test)\n"
   ]
  },
  {
   "cell_type": "markdown",
   "id": "8a06a2ec",
   "metadata": {},
   "source": [
    "#### Evaluate Model performance with accuracy, precision, recall, F1 score"
   ]
  },
  {
   "cell_type": "code",
   "execution_count": 26,
   "id": "e75fbf77",
   "metadata": {},
   "outputs": [
    {
     "data": {
      "text/plain": [
       "(0.9666666666666667,\n",
       " 0.9722222222222222,\n",
       " 0.9696969696969697,\n",
       " 0.9696342305037957)"
      ]
     },
     "execution_count": 26,
     "metadata": {},
     "output_type": "execute_result"
    }
   ],
   "source": [
    "from sklearn.metrics import accuracy_score, precision_score, recall_score, f1_score\n",
    "model_accuracy_score = accuracy_score(y_predicted, y_test)\n",
    "model_precision_score = precision_score(y_predicted, y_test, average='macro')\n",
    "model_recall_score = recall_score(y_predicted, y_test, average='macro')\n",
    "model_f1_score = f1_score(y_predicted, y_test, average='macro')\n",
    "model_accuracy_score, model_precision_score, model_recall_score, model_f1_score"
   ]
  },
  {
   "cell_type": "code",
   "execution_count": null,
   "id": "27fb1d51",
   "metadata": {},
   "outputs": [],
   "source": []
  }
 ],
 "metadata": {
  "kernelspec": {
   "display_name": "base",
   "language": "python",
   "name": "python3"
  },
  "language_info": {
   "codemirror_mode": {
    "name": "ipython",
    "version": 3
   },
   "file_extension": ".py",
   "mimetype": "text/x-python",
   "name": "python",
   "nbconvert_exporter": "python",
   "pygments_lexer": "ipython3",
   "version": "3.13.5"
  }
 },
 "nbformat": 4,
 "nbformat_minor": 5
}
