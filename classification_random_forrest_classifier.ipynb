{
 "cells": [
  {
   "cell_type": "markdown",
   "id": "5b2044ce",
   "metadata": {},
   "source": [
    "#### Load Data"
   ]
  },
  {
   "cell_type": "code",
   "execution_count": 1,
   "id": "c1f2afeb",
   "metadata": {},
   "outputs": [],
   "source": [
    "from sklearn.datasets import load_iris\n",
    "import pandas as pd \n",
    "data = load_iris()"
   ]
  },
  {
   "cell_type": "markdown",
   "id": "f5ee3d61",
   "metadata": {},
   "source": [
    "#### Get X and y : Create Training and Test data"
   ]
  },
  {
   "cell_type": "code",
   "execution_count": 2,
   "id": "c871310a",
   "metadata": {},
   "outputs": [
    {
     "data": {
      "text/plain": [
       "(     sepal length (cm)  sepal width (cm)  petal length (cm)  petal width (cm)\n",
       " 0                  5.1               3.5                1.4               0.2\n",
       " 1                  4.9               3.0                1.4               0.2\n",
       " 2                  4.7               3.2                1.3               0.2\n",
       " 3                  4.6               3.1                1.5               0.2\n",
       " 4                  5.0               3.6                1.4               0.2\n",
       " ..                 ...               ...                ...               ...\n",
       " 145                6.7               3.0                5.2               2.3\n",
       " 146                6.3               2.5                5.0               1.9\n",
       " 147                6.5               3.0                5.2               2.0\n",
       " 148                6.2               3.4                5.4               2.3\n",
       " 149                5.9               3.0                5.1               1.8\n",
       " \n",
       " [150 rows x 4 columns],\n",
       " 0      0\n",
       " 1      0\n",
       " 2      0\n",
       " 3      0\n",
       " 4      0\n",
       "       ..\n",
       " 145    2\n",
       " 146    2\n",
       " 147    2\n",
       " 148    2\n",
       " 149    2\n",
       " Name: target, Length: 150, dtype: int64)"
      ]
     },
     "execution_count": 2,
     "metadata": {},
     "output_type": "execute_result"
    }
   ],
   "source": [
    "from sklearn.model_selection import train_test_split\n",
    "df = pd.DataFrame(data= data.data, columns= data.feature_names)\n",
    "df['target'] = data.target\n",
    "\n",
    "X = df.drop(columns = 'target')\n",
    "y = df['target']\n",
    "X, y"
   ]
  },
  {
   "cell_type": "code",
   "execution_count": 3,
   "id": "f24b0a11",
   "metadata": {},
   "outputs": [],
   "source": [
    "# Create Train And Test DAta\n",
    "X_train, X_test,y_train,y_test = train_test_split(X, y, test_size = 0.2)"
   ]
  },
  {
   "cell_type": "markdown",
   "id": "79e24a6f",
   "metadata": {},
   "source": [
    "#### Create RandomForestClassifier Model Fit it and Predict"
   ]
  },
  {
   "cell_type": "code",
   "execution_count": 6,
   "id": "a4f99aa1",
   "metadata": {},
   "outputs": [],
   "source": [
    "from sklearn.ensemble import RandomForestClassifier\n",
    "model = RandomForestClassifier(n_estimators=100, random_state=42) #100 Decision Trees\n",
    "\n",
    "model.fit (X_train, y_train)\n",
    "y_predicted = model.predict(X_test)"
   ]
  },
  {
   "cell_type": "markdown",
   "id": "8610a235",
   "metadata": {},
   "source": [
    "#### Evaluate Model performance with accuracy, precision, recall, F1 score"
   ]
  },
  {
   "cell_type": "code",
   "execution_count": 7,
   "id": "2a5ce98c",
   "metadata": {},
   "outputs": [
    {
     "data": {
      "text/plain": [
       "(1.0, 1.0, 1.0, 1.0)"
      ]
     },
     "execution_count": 7,
     "metadata": {},
     "output_type": "execute_result"
    }
   ],
   "source": [
    "from sklearn.metrics import accuracy_score, precision_score, recall_score, f1_score\n",
    "model_accuracy_score = accuracy_score(y_predicted, y_test)\n",
    "model_precision_score = precision_score(y_predicted, y_test, average='macro')\n",
    "model_recall_score = recall_score(y_predicted, y_test, average='macro')\n",
    "model_f1_score = f1_score(y_predicted, y_test, average='macro')\n",
    "model_accuracy_score, model_precision_score, model_recall_score, model_f1_score"
   ]
  }
 ],
 "metadata": {
  "kernelspec": {
   "display_name": "base",
   "language": "python",
   "name": "python3"
  },
  "language_info": {
   "codemirror_mode": {
    "name": "ipython",
    "version": 3
   },
   "file_extension": ".py",
   "mimetype": "text/x-python",
   "name": "python",
   "nbconvert_exporter": "python",
   "pygments_lexer": "ipython3",
   "version": "3.13.5"
  }
 },
 "nbformat": 4,
 "nbformat_minor": 5
}
